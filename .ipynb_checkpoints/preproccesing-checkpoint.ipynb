{
 "cells": [
  {
   "cell_type": "code",
   "execution_count": 3,
   "id": "d904a05b-9a7d-4e55-b5e8-d94f69d0020c",
   "metadata": {},
   "outputs": [],
   "source": [
    "import json\n",
    "import torch\n",
    "import pandas as pd\n",
    "from datasets import load_dataset"
   ]
  },
  {
   "cell_type": "code",
   "execution_count": 19,
   "id": "3464a55f-dcdc-4924-99d7-6d7f90df2107",
   "metadata": {},
   "outputs": [
    {
     "name": "stdout",
     "output_type": "stream",
     "text": [
      "\u001b[0m\u001b[01;34mAST\u001b[0m/        \u001b[01;34mMakemore\u001b[0m/         preproccesing.ipynb  README.md\n",
      "\u001b[01;34mdata\u001b[0m/       openaqa_toy.json  prompter.py          requirements.txt\n",
      "main.ipynb  pos_embed.py      \u001b[01;34m__pycache__\u001b[0m/         \u001b[01;34mtemplates\u001b[0m/\n"
     ]
    }
   ],
   "source": [
    "!ls"
   ]
  },
  {
   "cell_type": "code",
   "execution_count": 32,
   "id": "cf2146e1-efdc-48a7-a084-09b3d379b031",
   "metadata": {},
   "outputs": [],
   "source": [
    "path = \"./data/subsets/data/closed_ended/classification/as_20k.json\"\n",
    "data = load_dataset(\"json\", data_files=path)"
   ]
  },
  {
   "cell_type": "code",
   "execution_count": 39,
   "id": "9b3f22f8-9083-46ea-a660-38ac9ce09266",
   "metadata": {},
   "outputs": [],
   "source": [
    "train_split = data['train'][:100]"
   ]
  },
  {
   "cell_type": "code",
   "execution_count": 43,
   "id": "80ebd258-ca28-4e60-8659-e1d12fd45e4b",
   "metadata": {},
   "outputs": [
    {
     "data": {
      "text/plain": [
       "(37382, 6)"
      ]
     },
     "execution_count": 43,
     "metadata": {},
     "output_type": "execute_result"
    }
   ],
   "source": []
  },
  {
   "cell_type": "code",
   "execution_count": null,
   "id": "89a5ca91-50f5-46fb-97b7-a82f6f29611f",
   "metadata": {},
   "outputs": [],
   "source": []
  }
 ],
 "metadata": {
  "kernelspec": {
   "display_name": "Python 3 (ipykernel)",
   "language": "python",
   "name": "python3"
  },
  "language_info": {
   "codemirror_mode": {
    "name": "ipython",
    "version": 3
   },
   "file_extension": ".py",
   "mimetype": "text/x-python",
   "name": "python",
   "nbconvert_exporter": "python",
   "pygments_lexer": "ipython3",
   "version": "3.12.3"
  }
 },
 "nbformat": 4,
 "nbformat_minor": 5
}
