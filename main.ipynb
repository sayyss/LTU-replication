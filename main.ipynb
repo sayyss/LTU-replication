{
 "cells": [
  {
   "cell_type": "code",
   "execution_count": 9,
   "id": "fc84367a-149d-4e6e-ac91-dbc31c80ddb5",
   "metadata": {},
   "outputs": [],
   "source": [
    "import torchaudio\n",
    "import torch"
   ]
  },
  {
   "cell_type": "markdown",
   "id": "73cf75d7-5a77-4885-a48d-c82a98f6cd37",
   "metadata": {},
   "source": [
    " 10-second audio waveform -> sequence of 128-dimensional long filterbank \n",
    " -> 1024(time) x 128(frequency) spectogram\n",
    " split into 512(64 time) x 8(frequency)) square patches of shape 16x16 fed into AST"
   ]
  },
  {
   "cell_type": "code",
   "execution_count": 10,
   "id": "65fcb3da-0d8e-45ee-94a5-3ad0a2377489",
   "metadata": {},
   "outputs": [],
   "source": [
    "\n",
    "# Filterbank\n",
    "def load_audio(filename):\n",
    "    waveform, sr = torchaudio.load(filename)\n",
    "    waveform = waveform - waveform.mean()\n",
    "    \n",
    "    # 128 dimensional long filterbank\n",
    "    fbank = torchaudio.compliance.kaldi.fbank(waveform, htk_compat=True, sample_frequency=sr,\n",
    "                                              use_energy=False, window_type='hanning',\n",
    "                                              num_mel_bins=128, dither=0.0, frame_shift=10)\n",
    "    target_length = 1024\n",
    "    n_frames = fbank.shape[0]\n",
    "    p = target_length - n_frames\n",
    "    if p > 0:\n",
    "        m = torch.nn.ZeroPad2d((0, 0, 0, p))\n",
    "        fbank = m(fbank)\n",
    "    elif p < 0:\n",
    "        fbank = fbank[0:target_length, :]\n",
    "    # normalize the fbank\n",
    "    fbank = (fbank + 5.081) / 4.4849\n",
    "\n",
    "    # returns a 1024x128 spectogram\n",
    "    return fbank"
   ]
  },
  {
   "cell_type": "code",
   "execution_count": 11,
   "id": "cf1a5700-2fa0-4faa-93f8-acbe88e41d1e",
   "metadata": {},
   "outputs": [],
   "source": [
    "file = \"./data/sample/audio_samples/audio/650981.flac\"\n",
    "fb = load_audio(file)"
   ]
  },
  {
   "cell_type": "code",
   "execution_count": 12,
   "id": "3409a46b-e3f6-4788-bedd-a133684de21f",
   "metadata": {},
   "outputs": [
    {
     "data": {
      "text/plain": [
       "torch.Size([1024, 128])"
      ]
     },
     "execution_count": 12,
     "metadata": {},
     "output_type": "execute_result"
    }
   ],
   "source": [
    "fb.shape"
   ]
  },
  {
   "cell_type": "code",
   "execution_count": null,
   "id": "865b38dd-6a52-43db-82df-476ed6499085",
   "metadata": {},
   "outputs": [],
   "source": []
  }
 ],
 "metadata": {
  "kernelspec": {
   "display_name": "Python 3 (ipykernel)",
   "language": "python",
   "name": "python3"
  },
  "language_info": {
   "codemirror_mode": {
    "name": "ipython",
    "version": 3
   },
   "file_extension": ".py",
   "mimetype": "text/x-python",
   "name": "python",
   "nbconvert_exporter": "python",
   "pygments_lexer": "ipython3",
   "version": "3.12.3"
  }
 },
 "nbformat": 4,
 "nbformat_minor": 5
}
